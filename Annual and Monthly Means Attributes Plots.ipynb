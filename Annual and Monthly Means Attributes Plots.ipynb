{
 "cells": [
  {
   "cell_type": "markdown",
   "metadata": {},
   "source": [
    "## Annual and Monthly Means of the Maximum Temperature, Depth at Maximum Temperature, and Salinity of WOD PFL Instrument"
   ]
  },
  {
   "cell_type": "markdown",
   "metadata": {},
   "source": [
    "This notebook reads a csv file that stores the maximum temperature, depth at maximum temperature and salinity time series and then plots the annual and monthly means of each.   "
   ]
  },
  {
   "cell_type": "code",
   "execution_count": 1,
   "metadata": {},
   "outputs": [
    {
     "name": "stderr",
     "output_type": "stream",
     "text": [
      "C:\\Users\\maria\\AppData\\Local\\Continuum\\anaconda3\\lib\\site-packages\\cmocean\\tools.py:76: MatplotlibDeprecationWarning: The is_string_like function was deprecated in version 2.1.\n",
      "  if not mpl.cbook.is_string_like(rgbin[0]):\n"
     ]
    }
   ],
   "source": [
    "# import libraries\n",
    "from datetime import datetime, timedelta\n",
    "import numpy as np\n",
    "import xarray\n",
    "import matplotlib\n",
    "import matplotlib.pyplot as plt\n",
    "%matplotlib inline\n",
    "import matplotlib.ticker as ticker\n",
    "import pandas as pd\n",
    "from pandas import Series, DataFrame\n",
    "import gsw\n",
    "import cmocean\n",
    "import sys\n",
    "import glob\n",
    "import errno\n",
    "import os\n",
    "import os.path\n",
    "import geopandas as gpd\n",
    "import string\n",
    "import time\n",
    "import csv\n",
    "from matplotlib.backends.backend_pdf import PdfPages"
   ]
  },
  {
   "cell_type": "code",
   "execution_count": null,
   "metadata": {},
   "outputs": [],
   "source": [
    "df1 = pd.read_csv('path\\csvfile', header=None, error_bad_lines=False, delimiter=',')\n",
    "# Insert file path you stored MaxTemp in\n",
    "df1.columns = ['YearTime', 'Absolute_Salinity_MaxTemp', 'MaxDepth', 'MaxTemp', 'Practical_Salinity_MaxTemp']\n",
    "# Setup the column headers\n",
    "df1"
   ]
  },
  {
   "cell_type": "code",
   "execution_count": null,
   "metadata": {},
   "outputs": [],
   "source": [
    "df2 = df1.set_index(\"YearTime\", drop = False) # Set time as index of the dataframe\n",
    "df2"
   ]
  },
  {
   "cell_type": "code",
   "execution_count": null,
   "metadata": {},
   "outputs": [],
   "source": [
    "# Plot Annual Mean Maximum Temperature\n",
    "df3 = df2['MaxTemp'].groupby(df2['YearTime'].str[:4]).mean().rename('MEAN').reset_index()\n",
    "print (df3)\n",
    "\n",
    "fig=plt.figure(figsize=(15,10))\n",
    "plt.plot(df3['YearTime'], df3['MEAN'])\n",
    "plt.scatter(df3['YearTime'], df3['MEAN'])\n",
    "plt.xlabel('Year', fontsize = 13)\n",
    "plt.ylabel('Mean Maximum Temperature', fontsize = 13)\n",
    "#plt.yscale('symlog', linthreshx=0.1)\n",
    "plt.title('Annual Mean Max Temp - PFL WOD Refined')\n",
    "plt.show()"
   ]
  },
  {
   "cell_type": "code",
   "execution_count": null,
   "metadata": {},
   "outputs": [],
   "source": [
    "# Plot Monthly Mean Maximum Temperature and monthly datapoints count\n",
    "df3m = df2['MaxTemp'].groupby(df2['YearTime'].str[:7]).agg(['mean', 'count']).reset_index()\n",
    "print (df3m)\n",
    "\n",
    "x = df3m['YearTime']\n",
    "y = df3m['mean']\n",
    "\n",
    "plt.figure(figsize=(120,50))\n",
    "plt.plot(x, y)\n",
    "plt.scatter(x, y)\n",
    "plt.xlabel('Month')\n",
    "plt.ylabel('Mean Maximum Temperature')\n",
    "#plt.yscale('symlog', linthreshx=0.1)\n",
    "plt.title('Monthly Mean Max Temp - PFL WOD Refined')\n",
    "plt.show()"
   ]
  },
  {
   "cell_type": "code",
   "execution_count": null,
   "metadata": {},
   "outputs": [],
   "source": [
    "# Plot Annual Mean Maximun Temperature with Std. Dev. and annual datapoints count\n",
    "df4 = df2['MaxTemp'].groupby(df2['YearTime'].str[:4]).agg(['mean', 'std', 'count']).reset_index()\n",
    "print (df4)\n",
    "\n",
    "x = df4['YearTime']\n",
    "y = df4['mean'] # Mean dataframe\n",
    "e = df4['std'] # Standard Deviation dataframe\n",
    "\n",
    "plt.figure(figsize=(15,10))\n",
    "plt.plot(x, y)\n",
    "plt.scatter(x, y)\n",
    "plt.xlabel('Year')\n",
    "plt.ylabel('Mean Maximum Temperature')\n",
    "plt.errorbar(x, y, e, linestyle='None', marker='^')\n",
    "plt.title('Annual Mean Max Temp - PFL WOD Refined')\n",
    "plt.show()"
   ]
  },
  {
   "cell_type": "code",
   "execution_count": null,
   "metadata": {},
   "outputs": [],
   "source": [
    "# Plot Annual Mean Depth at Maximum Temperature\n",
    "df5 = df2['MaxDepth'].groupby(df2['YearTime'].str[:4]).mean().rename('MEAN').reset_index()\n",
    "print (df5)\n",
    "\n",
    "plt.figure(figsize=(15,10))\n",
    "plt.plot(df5['YearTime'], df5['MEAN'])\n",
    "plt.scatter(df5['YearTime'], df5['MEAN'])\n",
    "plt.xlabel('Year')\n",
    "plt.ylabel('Mean Depth at Maximum Temperature (m)')\n",
    "#plt.yscale('symlog', linthreshx=0.1)\n",
    "plt.title('Annual Mean Depth Max Temp - PFL WOD Refined')\n",
    "plt.show()"
   ]
  },
  {
   "cell_type": "code",
   "execution_count": null,
   "metadata": {},
   "outputs": [],
   "source": [
    "df2['YearTime'].value_counts()\n",
    "len(df2['MaxDepth'].groupby(df2['YearTime'].str[:4]).groups['2017'])\n",
    "# datapoints count for each year manually"
   ]
  },
  {
   "cell_type": "code",
   "execution_count": null,
   "metadata": {},
   "outputs": [],
   "source": [
    "# Plot Annual Mean Depth at Maximum Temperature with Std. Dev. and annual datapoints count\n",
    "df6 = df2['MaxDepth'].groupby(df2['YearTime'].str[:4]).agg(['mean', 'std', 'count']).reset_index()\n",
    "print (df6)\n",
    "\n",
    "x = df6['YearTime']\n",
    "y = df6['mean'] # Mean dataframe\n",
    "e = df6['std'] # Standarad deviation dataframe\n",
    "\n",
    "plt.figure(figsize=(15,10))\n",
    "plt.plot(x, y)\n",
    "plt.scatter(x, y)\n",
    "plt.xlabel('Year')\n",
    "plt.ylabel('Mean Depth at Maximum Temperature (m)')\n",
    "plt.errorbar(x, y, e, linestyle='None', marker='^')\n",
    "plt.title('Annual Mean Depth at Max Temp - PFL WOD Refined')\n",
    "plt.show()"
   ]
  },
  {
   "cell_type": "code",
   "execution_count": null,
   "metadata": {},
   "outputs": [],
   "source": [
    "# Plot Annual Mean Depth at Maximum Temperature with Std. Dev. and annual datapoints count\n",
    "df6m = df2['MaxDepth'].groupby(df2['YearTime'].str[:7]).agg(['mean', 'count']).reset_index()\n",
    "print (df6m)\n",
    "\n",
    "x = df6m['YearTime']\n",
    "y = df6m['mean'] # Mean dataframe\n",
    "\n",
    "with open(\"path\\csvfile\", \"a\")  as f: # WRONG DATA!!\n",
    "    table4 = df6m.to_csv(f, sep=',', header=False)\n",
    "\n",
    "plt.figure(figsize=(120,50))\n",
    "plt.plot(x, y)\n",
    "plt.scatter(x, y)\n",
    "plt.xlabel('Month')\n",
    "plt.ylabel('Mean Depth at Maximum Temperature')\n",
    "plt.title('Monthly Mean Depth at Max Temp - PFL WOD Refined')\n",
    "plt.show()"
   ]
  },
  {
   "cell_type": "code",
   "execution_count": null,
   "metadata": {},
   "outputs": [],
   "source": [
    "# Plot Annual Mean Absolute Salinities at Maximum Temperature with Std. Dev. and annual datapoints count\n",
    "df7 = df2['Absolute_Salinity_MaxTemp'].groupby(df2['YearTime'].str[:4]).agg(['mean', 'std', 'count']).reset_index()\n",
    "print (df7)\n",
    "\n",
    "with open(\"path\\csvfile\", \"a\")  as f: # Save dataframe into a csv file\n",
    "    table1 = df7.to_csv(f, sep=',', header=False)\n",
    "\n",
    "x = df7['YearTime']\n",
    "y = df7['mean'] # Mean dataframe\n",
    "e = df7['std'] # Standard deviation dataframe\n",
    "\n",
    "plt.figure(figsize=(15,10))\n",
    "plt.plot(x, y)\n",
    "plt.scatter(x, y)\n",
    "plt.xlabel('Year')\n",
    "plt.ylabel('Mean Absolute Salinity at Maximum Temperature (m)')\n",
    "plt.errorbar(x, y, e, linestyle='None', marker='^')\n",
    "plt.title('Annual Mean Absolute Salinity at Max Temp - PFL WOD Refined')\n",
    "plt.show()"
   ]
  },
  {
   "cell_type": "code",
   "execution_count": null,
   "metadata": {},
   "outputs": [],
   "source": [
    "# Plot Monthly Mean Absolute Salinity at Maximum Temperature\n",
    "df7m = df2['Absolute_Salinity_MaxTemp'].groupby(df2['YearTime'].str[:7]).agg(['mean', 'count']).reset_index()\n",
    "#print (df7m)\n",
    "\n",
    "x = df7m['YearTime']\n",
    "y = df7m['mean'] # Mean dataframe\n",
    "\n",
    "plt.figure(figsize=(120,50))\n",
    "plt.plot(x, y)\n",
    "plt.scatter(x, y)\n",
    "plt.xlabel('Month')\n",
    "plt.ylabel('Mean Absolute Salinity at Maximum Temperature')\n",
    "plt.title('Monthly Mean Absolute Salinity at Max Temp - PFL WOD Refined')\n",
    "plt.show()"
   ]
  },
  {
   "cell_type": "code",
   "execution_count": null,
   "metadata": {},
   "outputs": [],
   "source": [
    "# Plot Annual Mean Practical Salinity at Maximum Temperature with Std. Dev. and annual datapoints count\n",
    "df8 = df2['Practical_Salinity_MaxTemp'].groupby(df2['YearTime'].str[:4]).agg(['mean', 'std', 'count']).reset_index()\n",
    "#print(df8)\n",
    "\n",
    "with open(\"path\\csvfile\", \"a\")  as f: # Save dataframe into csv file\n",
    "    table2 = df8.to_csv(f, sep=',', header=False)\n",
    "\n",
    "x = df8['YearTime']\n",
    "y = df8['mean'] # Mean dataframe\n",
    "e = df8['std'] # Standard deviation dataframe\n",
    "\n",
    "plt.figure(figsize=(15,10))\n",
    "plt.plot(x, y)\n",
    "plt.scatter(x, y)\n",
    "plt.xlabel('Year')\n",
    "plt.ylabel('Mean Practical Salinity at Maximum Temperature (m)')\n",
    "plt.errorbar(x, y, e, linestyle='None', marker='^')\n",
    "plt.title('Annual Mean Practical Salinity at Max Temp - PFL WOD Refined')\n",
    "plt.show()"
   ]
  },
  {
   "cell_type": "code",
   "execution_count": null,
   "metadata": {},
   "outputs": [],
   "source": [
    "# Plot Monthly Mean Practical Salinity at Maximum Temperature\n",
    "df8m = df2['Practical_Salinity_MaxTemp'].groupby(df2['YearTime'].str[:7]).agg(['mean', 'count']).reset_index()\n",
    "print (df8m)\n",
    "\n",
    "with open(\"path\\csvfile\", \"a\")  as f: # Save dataframe into csv file\n",
    "    table2 = df8m.to_csv(f, sep=',', header=False)\n",
    "\n",
    "x = df8m['YearTime']\n",
    "y = df8m['mean'] # Mean dataframe\n",
    "\n",
    "plt.figure(figsize=(120,50))\n",
    "plt.plot(x, y)\n",
    "plt.scatter(x, y)\n",
    "plt.xlabel('Month')\n",
    "plt.ylabel('Mean Practical Salinity at Maximum Temperature')\n",
    "plt.title('Monthly Mean Practical Salinity at Max Temp - PFL WOD Refined')\n",
    "plt.show()"
   ]
  }
 ],
 "metadata": {
  "kernelspec": {
   "display_name": "Python 3",
   "language": "python",
   "name": "python3"
  },
  "language_info": {
   "codemirror_mode": {
    "name": "ipython",
    "version": 3
   },
   "file_extension": ".py",
   "mimetype": "text/x-python",
   "name": "python",
   "nbconvert_exporter": "python",
   "pygments_lexer": "ipython3",
   "version": "3.6.4"
  }
 },
 "nbformat": 4,
 "nbformat_minor": 2
}
