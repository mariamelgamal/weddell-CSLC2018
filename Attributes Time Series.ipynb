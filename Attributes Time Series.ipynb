{
 "cells": [
  {
   "cell_type": "markdown",
   "metadata": {},
   "source": [
    "## Maximum Temperature, Depth at Maximum Temperature, Salinity for PFL Instruments in the Polynya Region"
   ]
  },
  {
   "cell_type": "markdown",
   "metadata": {},
   "source": [
    "This notebook computes and saves the Maximum Temperature, Depth at Maximum Temperature, and Salinity of each time value in a csv file. It then plots the time series for each attribute."
   ]
  },
  {
   "cell_type": "code",
   "execution_count": 3,
   "metadata": {},
   "outputs": [],
   "source": [
    "# import libraries\n",
    "from datetime import datetime, timedelta\n",
    "import numpy as np\n",
    "import xarray\n",
    "import matplotlib.pyplot as plt\n",
    "%matplotlib inline \n",
    "import pandas as pd\n",
    "from pandas import Series, DataFrame\n",
    "import gsw\n",
    "import cmocean\n",
    "import sys\n",
    "import glob\n",
    "import errno\n",
    "import os\n",
    "import os.path\n",
    "import netCDF4 as nc\n",
    "import geopandas as gpd\n",
    "import string\n",
    "import time\n",
    "import csv"
   ]
  },
  {
   "cell_type": "code",
   "execution_count": 4,
   "metadata": {
    "scrolled": false
   },
   "outputs": [],
   "source": [
    "datadir = '/path/datafolder/'\n",
    "# Insert folder path\n",
    "for filename in os.listdir(datadir):\n",
    "        \n",
    "    #savedir = '/path/savefolder/'\n",
    "    # Insert directory you'd like to save in\n",
    "        \n",
    "    #def filecount(dir_name):\n",
    "    #   \"\"\"This function counts number of files in directory provided\"\"\"\n",
    "    #   return len([f for f in os.listdir(dir_name) if os.path.isfile(f)])\n",
    "        \n",
    "    fname = filename\n",
    "        \n",
    "    ncdata = xarray.open_dataset(datadir + fname)\n",
    "    juld = pd.to_datetime(ncdata.time.values) # convert time values to datetime\n",
    "    #print(juld)\n",
    "    lats = np.array(ncdata.lat.values) # latitude\n",
    "    lons = np.array(ncdata.lon.values) # longitude\n",
    "    temp = ncdata.Temperature.values # in situ temperature\n",
    "    press = ncdata.Pressure.values  # pressure (needed for depth)\n",
    "    salt = ncdata.Salinity.values  # in situ practical salinity\n",
    "    SA = gsw.conversions.SA_from_SP(salt, press,\n",
    "                                        lons, lats)  # absolute salinity\n",
    "    z = gsw.conversions.z_from_p(press, lats) # depth calculated from pressure\n",
    "    \n",
    "    maxtemp = temp.max() # Maximum Temperature\n",
    "    a = temp.argmax() #index of the max temp\n",
    "    depth = z[a] # Depth at Maximum Temperature\n",
    "    maxdepth = z.max() # Maximum Depth\n",
    "    PSatMaxTemp = salt[a] # Practical Salinity at Maximum Temperature\n",
    "    ASatMaxTemp = SA[a] # Absolute Salinity at Maximum  Temperature\n",
    "    PS = np.mean(salt) # Mean Practical Salinity\n",
    "    AS = np.mean(SA)  # Mean Absolute Salinity \n",
    "        \n",
    "    if maxtemp > 10 or depth < -700 or PSatMaxTemp<0 or ASatMaxTemp<0:\n",
    "        # Skips maximum temperatures above 10 and depths deeper than 700 (considered anomalous)\n",
    "        # Skips negative salinities (considered anomalous)\n",
    "        continue\n",
    "        \n",
    "    maxT = ([maxtemp]) # Maximum Temperature list \n",
    "    maxZ = ([maxdepth]) # Maximum Depth list\n",
    "    ZmaxT = ([depth]) # Depth at Maximum Temperature list\n",
    "    salmaxT = ([PSatMaxTemp]) # Practical Salinity at Maximum Temperature list\n",
    "    abs_salmaxT = ([ASatMaxTemp]) # Absolute Salinity at Maximum Temperature list\n",
    "    \n",
    "    data = {'MaxTemp': maxT, 'MaxDepth': ZmaxT, 'Practical Salinity at Max Temp': salmaxT,\n",
    "            'Absolute Salinity at Max Temp': abs_salmaxT}\n",
    "    df = DataFrame(data, index=[juld])\n",
    "    #df['Juld'] = DataFrame(store)\n",
    "    #df['MaxTemp'] = DataFrame(maxT)\n",
    "        \n",
    "    with open(\"path\\csvfile\", \"a\")  as f: \n",
    "        # Insert path for the file you'll save the dataframe in\n",
    "        table1 = df.to_csv(f, sep=',', header=False)\n",
    "            "
   ]
  },
  {
   "cell_type": "code",
   "execution_count": null,
   "metadata": {},
   "outputs": [],
   "source": [
    "ncdata"
   ]
  },
  {
   "cell_type": "code",
   "execution_count": null,
   "metadata": {},
   "outputs": [],
   "source": [
    "df.head() # Check dataframe headers"
   ]
  },
  {
   "cell_type": "code",
   "execution_count": 1,
   "metadata": {},
   "outputs": [],
   "source": [
    "#result = pd.read_csv('path\\csvfile', header=None, error_bad_lines=False, delimiter=',')\n",
    "# Insert file path you stored the attributes in\n",
    "#result.columns = ['YearTime', 'Absolute Salinity at Max Temp', 'MaxDepth', 'MaxTemp', 'Practical Salinity at Max Temp']\n",
    "# Setup the column headers\n",
    "#result"
   ]
  },
  {
   "cell_type": "code",
   "execution_count": 11,
   "metadata": {},
   "outputs": [],
   "source": [
    "def try_parsing_date(text):\n",
    "    \"\"\" This function takes in date written as a string \n",
    "    in two different formats and returns it as datetime\"\"\"\n",
    "    for fmt in ('%Y-%m-%d', '%Y-%m-%d %H:%M:%S'):\n",
    "        try:\n",
    "            return datetime.strptime(text, fmt)\n",
    "        except ValueError:\n",
    "            pass\n",
    "    raise ValueError('no valid date format found')"
   ]
  },
  {
   "cell_type": "code",
   "execution_count": null,
   "metadata": {},
   "outputs": [],
   "source": [
    "# Plot all Maximum Temperatures in a time series\n",
    "x=[]\n",
    "y=[]\n",
    "\n",
    "with open('path\\csvfile','r') as csvfile: \n",
    "    # Insert path of the csv file you'll plot\n",
    "    plots = csv.reader(csvfile, delimiter=',')\n",
    "    for column in plots:\n",
    "        yeartime = column[0].split(\".\")[0] # Ignores fraction seconds\n",
    "        x.append(try_parsing_date(yeartime))\n",
    "        y.append(float(column[3])) # MaxTemp column\n",
    "\n",
    "plt.scatter(x,y, label='Loaded from file!', color='k', s=25, marker=\"o\")\n",
    "plt.xlabel('Time')\n",
    "plt.ylabel('Maximum Temperature')\n",
    "#plt.yscale('symlog', linthreshx=0.1)\n",
    "plt.title('Max Temp - Polynya Region PFL')\n",
    "plt.show()\n",
    "\n",
    "# Plot all Depths at Maximum Temperature in a time series\n",
    "x=[]\n",
    "y=[]\n",
    "\n",
    "with open('path\\csvfile','r') as csvf:\n",
    "    # Insert path of the csv file you'll plot\n",
    "    plot1 = csv.reader(csvf, delimiter=',')\n",
    "    for column in plot1:\n",
    "        yeartime = column[0].split(\".\")[0] # Ignores fraction seconds\n",
    "        x.append(try_parsing_date(yeartime))\n",
    "        y.append(float(column[2])) # MaxDepth column\n",
    "\n",
    "plt.scatter(x,y, label='Loaded from file!', color='k', s=25, marker=\"o\")\n",
    "plt.xlabel('Time')\n",
    "plt.ylabel('Depth at Maximum Temperature')\n",
    "plt.title('Depth at Max Temp - Polynya Region PFL')\n",
    "plt.show()"
   ]
  },
  {
   "cell_type": "code",
   "execution_count": null,
   "metadata": {},
   "outputs": [],
   "source": [
    "# Plot all Absolute Salinities at Maximum Temperature in a time series\n",
    "x=[]\n",
    "y=[]\n",
    "\n",
    "with open('path\\csvfile','r') as cfile:\n",
    "    # Insert path of the csv file you'll plot\n",
    "    pl = csv.reader(cfile, delimiter=',')\n",
    "    for column in pl:\n",
    "        yeartime = column[0].split(\".\")[0] # Ignores fraction seconds\n",
    "        x.append(try_parsing_date(yeartime))\n",
    "        y.append(float(column[1])) # Absolute Salinity at Max Temp column\n",
    "\n",
    "plt.scatter(x,y, label='Loaded from file!', color='k', s=25, marker=\"o\")\n",
    "plt.xlabel('Time')\n",
    "plt.ylabel('Absolute Salinity at Max Temp')\n",
    "#plt.yscale('symlog', linthreshx=0.1)\n",
    "plt.title('Absolute Salinity at Max Temp - Polynya Region PFL')\n",
    "plt.show()"
   ]
  },
  {
   "cell_type": "code",
   "execution_count": null,
   "metadata": {},
   "outputs": [],
   "source": [
    "# Plot all Practical Salinities at Maximum Temperature in a time series\n",
    "x=[]\n",
    "y=[]\n",
    "\n",
    "with open('path\\csvfile','r') as cfile1:\n",
    "    # Insert path of the csv file you'll plot\n",
    "    pl1 = csv.reader(cfile1, delimiter=',')\n",
    "    for column in pl1:\n",
    "        yeartime = column[0].split(\".\")[0] # Ignores fraction seconds\n",
    "        x.append(try_parsing_date(yeartime))\n",
    "        y.append(float(column[4])) # Practical Salinity at Max Temp column\n",
    "\n",
    "plt.scatter(x,y, label='Loaded from file!', color='k', s=25, marker=\"o\")\n",
    "plt.xlabel('Time')\n",
    "plt.ylabel('Practical Salinity at Max Temp')\n",
    "#plt.yscale('symlog', linthreshx=0.1)\n",
    "plt.title('Practical Salinity at Max Temp - Polynya Region PFL')\n",
    "plt.show()"
   ]
  }
 ],
 "metadata": {
  "kernelspec": {
   "display_name": "Python 3",
   "language": "python",
   "name": "python3"
  },
  "language_info": {
   "codemirror_mode": {
    "name": "ipython",
    "version": 3
   },
   "file_extension": ".py",
   "mimetype": "text/x-python",
   "name": "python",
   "nbconvert_exporter": "python",
   "pygments_lexer": "ipython3",
   "version": "3.6.4"
  }
 },
 "nbformat": 4,
 "nbformat_minor": 2
}
