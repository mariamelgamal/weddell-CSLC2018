{
 "cells": [
  {
   "cell_type": "markdown",
   "metadata": {},
   "source": [
    "# Temperature, Density and Salinity Profiles for WOD PFL Instruments"
   ]
  },
  {
   "cell_type": "markdown",
   "metadata": {},
   "source": [
    "This notebook plots temperature, density and salinity profiles for the PFL data from the WOD floats"
   ]
  },
  {
   "cell_type": "code",
   "execution_count": null,
   "metadata": {},
   "outputs": [],
   "source": [
    "# import libraries\n",
    "import datetime\n",
    "import numpy\n",
    "import xarray\n",
    "import matplotlib.pyplot as plt\n",
    "%matplotlib inline \n",
    "import pandas\n",
    "import gsw\n",
    "import cmocean\n",
    "import sys\n",
    "import glob\n",
    "import errno\n",
    "import os\n",
    "import os.path\n",
    "import netCDF4 as nc"
   ]
  },
  {
   "cell_type": "code",
   "execution_count": null,
   "metadata": {},
   "outputs": [],
   "source": [
    "def filecount(dir_name):\n",
    "    \"\"\"This function counts number of files in directory provided\"\"\"\n",
    "    return len([f for f in os.listdir(dir_name) if os.path.isfile(f)])"
   ]
  },
  {
   "cell_type": "code",
   "execution_count": null,
   "metadata": {
    "scrolled": true
   },
   "outputs": [],
   "source": [
    "datadir = '/path/datafolder/' # Insert folder path\n",
    "for filename in os.listdir(datadir):\n",
    "    savedir = '/path/savefolder/' \n",
    "    # Insert path to folder you'd like to save your plots in\n",
    "    \n",
    "    fname = filename\n",
    "        \n",
    "    ncdata = xarray.open_dataset(datadir + fname)\n",
    "    juld = pandas.to_datetime(ncdata.time.values) # convert argument to datetime\n",
    "        \n",
    "    press = ncdata.Pressure.values  # pressure (needed for depth)\n",
    "    temp = ncdata.Temperature.values  # in situ temperature\n",
    "    salt = ncdata.Salinity.values  # in situ practical salinity\n",
    "    lats = ncdata.lat.values # latitude\n",
    "    lons = ncdata.lon.values # longitude\n",
    "\n",
    "    # calculate variables\n",
    "    z = gsw.conversions.z_from_p(press, lats)  # depth calculated from pressure\n",
    "    # find depth of deepest profile point\n",
    "    SA = gsw.conversions.SA_from_SP(salt, press,\n",
    "                                        lons, lats)  # absolute salinity\n",
    "    temp_fp = gsw.t_freezing(SA, press, 0)  # assuming saturation_fraction = 0\n",
    "    CT = gsw.conversions.CT_from_t(SA, temp, press)  # conservative temperature\n",
    "    sigma0 = gsw.sigma0(SA, CT)  # density from absolute salinity and conservative temperature\n",
    "    rho = gsw.density.rho_t_exact(SA, CT, press)  # in situ density\n",
    "    pot_temp = gsw.conversions.pt0_from_t(SA, temp, press) # potential temperature\n",
    "\n",
    "    # density profile\n",
    "    fig = plt.figure()\n",
    "    ax = fig.add_subplot(111)\n",
    "    ax.spines[\"bottom\"].set_visible(False)\n",
    "    ax.spines[\"right\"].set_visible(False)\n",
    "    ax.xaxis.tick_top()\n",
    "    plt.suptitle('{} [{}]'.format(\"In-situ Density\", \"kg/m^3\"))\n",
    "    ax.plot(sigma0, z)\n",
    "    plt.grid(alpha=0.8, linestyle=':', linewidth=.5)\n",
    "    plt.savefig(savedir + 'rho_prof_{}_{}'.format(fname[:7], juld.strftime('%Y%m%d_%H%M%S')))\n",
    "    #plt.close(fig)\n",
    "            \n",
    "    # temperature profile\n",
    "    fig = plt.figure()\n",
    "    ax = fig.add_subplot(111)\n",
    "    ax.spines[\"bottom\"].set_visible(False)\n",
    "    ax.spines[\"right\"].set_visible(False)\n",
    "    ax.xaxis.tick_top()\n",
    "    plt.suptitle('{} [{}]'.format(ncdata.Temperature.long_name, ncdata.Temperature.units))\n",
    "    ax.plot(temp, z)\n",
    "    plt.grid(alpha=0.8, linestyle=':', linewidth=.5)\n",
    "    plt.savefig(savedir + 'temp_prof_{}_{}'.format(fname[:7], juld.strftime('%Y%m%d_%H%M%S')))\n",
    "    #plt.close(fig)\n",
    "\n",
    "    # salinity profile\n",
    "    fig = plt.figure()\n",
    "    ax = fig.add_subplot(111)\n",
    "    ax.spines[\"bottom\"].set_visible(False)\n",
    "    ax.spines[\"right\"].set_visible(False)\n",
    "    ax.xaxis.tick_top()\n",
    "    plt.suptitle('{} [{}]'.format(ncdata.Salinity.long_name, \"psu\"))\n",
    "    ax.plot(salt, z)\n",
    "    plt.grid(alpha=0.8, linestyle=':', linewidth=.5)\n",
    "    plt.savefig(savedir + 'salt_prof_{}_{}'.format(fname[:7], juld.strftime('%Y%m%d_%H%M%S')))\n",
    "    #plt.close(fig)\n",
    "\n",
    "    # regular TS diagram: pot temp, practical salinity, sigma0\n",
    "    te = numpy.linspace(-2, 2, 50)\n",
    "    se = numpy.linspace(33.8, 34.9, 50)\n",
    "    plttemp, pltsalt = numpy.meshgrid(te, se)\n",
    "    pltsigma0 = gsw.sigma0(pltsalt, plttemp) # potential density anomaly wrt ref press of 0 dbar\n",
    "    cn = numpy.arange(26.5, 39.1, 0.05)\n",
    "\n",
    "    fig = plt.figure()\n",
    "    ax = fig.add_subplot(111)\n",
    "    ax.set_xlim(34.3, 34.8)\n",
    "    ax.set_ylim(-2, 1)\n",
    "    cs = plt.contour(pltsalt, plttemp, pltsigma0, linestyles='--', linewidths=.7, colors='grey',\n",
    "                     levels=cn, zorder=1)\n",
    "    plt.clabel(cs, fontsize=12, inline=True, fmt='%1.2f')\n",
    "    sc = ax.scatter(salt, pot_temp, c=z, vmin=-2000., vmax=-0.,\n",
    "                    cmap=plt.cm.get_cmap('Spectral_r'))\n",
    "    #                cmap=cmocean.cm.deep)\n",
    "    cbar = plt.colorbar(sc)\n",
    "    cbar.ax.set_ylabel('Depth from pressure [m]')\n",
    "    ax.set_xlabel('Practical salinity')\n",
    "    ax.set_ylabel('Potential temperature [deg C]')\n",
    "    plt.title('Float {} at {}'.format(fname[:7], juld.strftime('%Y/%m/%d %H:%M:%S')))\n",
    "    plt.savefig(savedir + 'TS_pottemp_sigma0_ps_{}_{}'.format(fname[:7], juld.strftime('%Y%m%d_%H%M%S')))\n",
    "    #plt.close(fig)\n",
    "            \n",
    "filecount(os.getcwd()) # Count number of files in folder\n",
    "plt.rcParams.update({'figure.max_open_warning': 0})"
   ]
  },
  {
   "cell_type": "code",
   "execution_count": null,
   "metadata": {},
   "outputs": [],
   "source": [
    "filename.close()"
   ]
  }
 ],
 "metadata": {
  "kernelspec": {
   "display_name": "Python 3",
   "language": "python",
   "name": "python3"
  },
  "language_info": {
   "codemirror_mode": {
    "name": "ipython",
    "version": 3
   },
   "file_extension": ".py",
   "mimetype": "text/x-python",
   "name": "python",
   "nbconvert_exporter": "python",
   "pygments_lexer": "ipython3",
   "version": "3.6.4"
  }
 },
 "nbformat": 4,
 "nbformat_minor": 2
}
