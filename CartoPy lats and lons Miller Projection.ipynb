{
 "cells": [
  {
   "cell_type": "markdown",
   "metadata": {},
   "source": [
    "## Lats and Lons Plot on CartoPy Map "
   ]
  },
  {
   "cell_type": "markdown",
   "metadata": {},
   "source": [
    "This notebook stores the lats and lons of a float instrument's time series in a csv file and plots them on a map using CartoPy.\n",
    "\n",
    "You can find the CartoPy projection list on the following link:\n",
    "https://scitools.org.uk/cartopy/docs/latest/crs/projections.html#cartopy-projections"
   ]
  },
  {
   "cell_type": "code",
   "execution_count": 2,
   "metadata": {},
   "outputs": [
    {
     "name": "stderr",
     "output_type": "stream",
     "text": [
      "C:\\Users\\maria\\AppData\\Local\\Continuum\\anaconda3\\lib\\site-packages\\cmocean\\tools.py:76: MatplotlibDeprecationWarning: The is_string_like function was deprecated in version 2.1.\n",
      "  if not mpl.cbook.is_string_like(rgbin[0]):\n"
     ]
    }
   ],
   "source": [
    "# import libraries\n",
    "from datetime import datetime, timedelta\n",
    "import numpy as np\n",
    "import xarray\n",
    "import matplotlib.pyplot as plt\n",
    "%matplotlib inline \n",
    "import pandas as pd\n",
    "from pandas import Series, DataFrame\n",
    "import gsw\n",
    "import cmocean\n",
    "import sys\n",
    "import glob\n",
    "import errno\n",
    "import os\n",
    "import os.path\n",
    "import netCDF4 as nc\n",
    "import geopandas as gpd\n",
    "from cartopy import crs as ccrs \n",
    "import cartopy.feature as cfeat\n",
    "import string\n",
    "import time\n",
    "import csv\n",
    "import geopandas as gpd\n",
    "from cartopy import crs as ccrs \n",
    "# or import cartopy.crs as ccrs\n",
    "import cartopy.feature as cfeat"
   ]
  },
  {
   "cell_type": "code",
   "execution_count": 3,
   "metadata": {
    "scrolled": false
   },
   "outputs": [],
   "source": [
    "datadir = '/path/datafolder/' # Insert folder path\n",
    "for filename in os.listdir(datadir):\n",
    "    #savedir = '/path/savefolder/'\n",
    "    # Insert directory you'd like to save in\n",
    "        \n",
    "    #def filecount(dir_name):\n",
    "    #   \"\"\"This function counts number of files in directory provided\"\"\"\n",
    "    #   return len([f for f in os.listdir(dir_name) if os.path.isfile(f)])\n",
    "    fname = filename\n",
    "        \n",
    "    ncdata = xarray.open_dataset(datadir + fname)\n",
    "    juld = pd.to_datetime(ncdata.time.values) # convert time values to datetime\n",
    "    temp = ncdata.Temperature.values # in situ temperature\n",
    "    press = ncdata.Pressure.values  # pressure (needed for depth)\n",
    "    lats = np.array(ncdata.lat.values) # latitude\n",
    "    lons = np.array(ncdata.lon.values) # longitude\n",
    "    z = gsw.conversions.z_from_p(press, lats) # depth calculated from pressure\n",
    "    maxtemp = temp.max() # maximum temperature\n",
    "    a = temp.argmax() # index of the max temp\n",
    "    depth = z[a] # depth at maximum temperature\n",
    "        \n",
    "    if maxtemp > 10 or depth < -700:\n",
    "        continue\n",
    "            \n",
    "    latitude = ([lats])\n",
    "    longitude = ([lons])\n",
    "    data = {'Lat': latitude, 'Lon': longitude} \n",
    "    df = DataFrame(data, index=[juld]) # store lats and lons in a dataframe\n",
    "    #print(df)\n",
    "    \n",
    "    with open(\"path\\csvfile\", \"a\")  as f:\n",
    "        # Insert path for the file you'll save the dataframe in\n",
    "        table1 = df.to_csv(f, sep=',', header=False)            "
   ]
  },
  {
   "cell_type": "code",
   "execution_count": null,
   "metadata": {},
   "outputs": [],
   "source": [
    "ncdata"
   ]
  },
  {
   "cell_type": "code",
   "execution_count": null,
   "metadata": {},
   "outputs": [],
   "source": [
    "df.head() # Check dataframe headers"
   ]
  },
  {
   "cell_type": "code",
   "execution_count": null,
   "metadata": {},
   "outputs": [],
   "source": [
    "df1 = pd.read_csv('path\\csvfile', header=None, error_bad_lines=False, delimiter=',')\n",
    "# Insert file path you stored the attributes in\n",
    "df1.columns = ['YearTime', 'latitude', 'longitude']\n",
    "# Setup the column headers\n",
    "df1"
   ]
  },
  {
   "cell_type": "code",
   "execution_count": null,
   "metadata": {},
   "outputs": [],
   "source": [
    "# Plot plain projection\n",
    "fig1 = plt.figure(figsize=(10, 8))\n",
    "\n",
    "ax = fig1.add_subplot(1, 1, 1, projection=ccrs.Miller())\n",
    "ax.add_feature(cfeat.LAND)\n",
    "ax.add_feature(cfeat.OCEAN)\n",
    "ax.add_feature(cfeat.COASTLINE)\n",
    "ax.add_feature(cfeat.BORDERS, linestyle=':')\n",
    "ax.add_feature(cfeat.LAKES, alpha=.5) \n",
    "# alpha indicates transperancy, so it would look different from the ocean\n",
    "ax.add_feature(cfeat.RIVERS)\n",
    "\n",
    "ax.set_extent([-150, 30, -90, 0])"
   ]
  },
  {
   "cell_type": "code",
   "execution_count": null,
   "metadata": {},
   "outputs": [],
   "source": [
    "df2 = df1.set_index(\"YearTime\", drop = False)\n",
    "\n",
    "x=df2['latitude']\n",
    "y=df2['longitude']\n",
    "\n",
    "ax.scatter(y, x, transform=ccrs.Miller(), marker= '*', s=400, c='y') \n",
    "# Plot lats and lons on map\n",
    "\n",
    "fig1"
   ]
  },
  {
   "cell_type": "code",
   "execution_count": null,
   "metadata": {},
   "outputs": [],
   "source": [
    "# Plot on Stereographic projection\n",
    "proj = ccrs.Stereographic(central_longitude=-70, central_latitude=-30) # map not covering this part of the globe!\n",
    "fig = plt.figure(figsize=(12,12))\n",
    "ax = fig.add_subplot(1, 1, 1, projection=proj)\n",
    "ax.add_feature(cfeat.STATES.with_scale('50m'), edgecolor = 'black')\n",
    "ax.add_feature(cfeat.BORDERS)\n",
    "ax.gridlines()\n",
    "ax.set_extent([-150, 30, -90, 0])\n",
    "ax.scatter(y, x, transform=ccrs.PlateCarree(), marker= '*', s=400, c='y')"
   ]
  }
 ],
 "metadata": {
  "kernelspec": {
   "display_name": "Python 3",
   "language": "python",
   "name": "python3"
  },
  "language_info": {
   "codemirror_mode": {
    "name": "ipython",
    "version": 3
   },
   "file_extension": ".py",
   "mimetype": "text/x-python",
   "name": "python",
   "nbconvert_exporter": "python",
   "pygments_lexer": "ipython3",
   "version": "3.6.4"
  }
 },
 "nbformat": 4,
 "nbformat_minor": 2
}
