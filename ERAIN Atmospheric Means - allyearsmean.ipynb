{
 "cells": [
  {
   "cell_type": "markdown",
   "metadata": {},
   "source": [
    "## ERAIN Means"
   ]
  },
  {
   "cell_type": "markdown",
   "metadata": {},
   "source": [
    "Monthly and Annual means of atmospheric temperatures 2 metres above sea level, averaged over the region"
   ]
  },
  {
   "cell_type": "code",
   "execution_count": 1,
   "metadata": {},
   "outputs": [
    {
     "name": "stderr",
     "output_type": "stream",
     "text": [
      "C:\\Users\\maria\\AppData\\Local\\Continuum\\anaconda3\\lib\\site-packages\\cmocean\\tools.py:76: MatplotlibDeprecationWarning: The is_string_like function was deprecated in version 2.1.\n",
      "  if not mpl.cbook.is_string_like(rgbin[0]):\n"
     ]
    }
   ],
   "source": [
    "# import libraries\n",
    "from datetime import datetime, timedelta\n",
    "import numpy as np\n",
    "import xarray\n",
    "import matplotlib\n",
    "import matplotlib.pyplot as plt\n",
    "%matplotlib inline\n",
    "import matplotlib.ticker as ticker\n",
    "import pandas as pd\n",
    "from pandas import Series, DataFrame\n",
    "import gsw\n",
    "import cmocean\n",
    "import sys\n",
    "import glob\n",
    "import errno\n",
    "import os\n",
    "import os.path\n",
    "import netCDF4 as nc\n",
    "import geopandas as gpd\n",
    "import string\n",
    "import time\n",
    "import csv\n",
    "from matplotlib.backends.backend_pdf import PdfPages"
   ]
  },
  {
   "cell_type": "code",
   "execution_count": 62,
   "metadata": {},
   "outputs": [],
   "source": [
    "datadir = '/path/ncdatafile/'\n",
    "for filename in os.listdir(datadir):\n",
    "    #savedir = '/path/ncdatafile/' # change this if you want to store your plots somewhere else\n",
    "    #def filecount(dir_name):\n",
    "    #   return len([f for f in os.listdir(dir_name) if os.path.isfile(f)])\n",
    "        \n",
    "    fname = 'allyearsmean.nc'\n",
    "        \n",
    "    ncdata = xarray.open_dataset(datadir + fname)\n",
    "    juld = pd.to_datetime(ncdata.time.values) # convert time values to datetime\n",
    "        \n",
    "    lats = np.array(ncdata.lat.values) # latitude\n",
    "    lons = np.array(ncdata.lon.values) # longitude\n",
    "        \n",
    "    temp = np.array(ncdata.t2m.values) # atmospheric temperature 2m above sea level in Kelvins\n",
    "    names = ['x', 'y', 'z']\n",
    "    index = pd.MultiIndex.from_product([range(s)for s in temp.shape], names=names)\n",
    "    df = pd.DataFrame({'temp': temp.flatten()})\n",
    "        \n",
    "    df1 = DataFrame(juld)\n",
    "\n",
    "    dft = pd.concat([df, df1], axis=1) # concatenate both dataframes\n",
    "    dft.columns = ['temp', 'yeardate'] # Assign column headers\n",
    "    df2 = dft.set_index(\"yeardate\", drop = True)\n",
    "    df3 = df2.drop_duplicates() # drop duplicate rows\n",
    "        \n",
    "with open(\"path\\csvfile\", \"a\")  as f:\n",
    "    # Insert path for the file you'll save the dataframe in\n",
    "    table1 = df3.to_csv(f, sep=',', header=False)"
   ]
  },
  {
   "cell_type": "code",
   "execution_count": null,
   "metadata": {},
   "outputs": [],
   "source": [
    "ncdata.t2m"
   ]
  },
  {
   "cell_type": "code",
   "execution_count": null,
   "metadata": {},
   "outputs": [],
   "source": [
    "df3"
   ]
  },
  {
   "cell_type": "code",
   "execution_count": 2,
   "metadata": {},
   "outputs": [],
   "source": [
    "def try_parsing_date(text):\n",
    "    \"\"\" This function takes in date written as a string \n",
    "    in two different formats and returns it as datetime\"\"\"\n",
    "    for fmt in ('%Y-%m-%d', '%Y-%m-%d %H:%M:%S'):\n",
    "        try:\n",
    "            return datetime.strptime(text, fmt)\n",
    "        except ValueError:\n",
    "            pass\n",
    "    raise ValueError('no valid date format found')"
   ]
  },
  {
   "cell_type": "code",
   "execution_count": null,
   "metadata": {},
   "outputs": [],
   "source": [
    "# Plot monthly mean atmospheric temperatures in Kelvins\n",
    "x=[]\n",
    "y=[]\n",
    "\n",
    "with open('path\\csvfile','r') as csvfile:\n",
    "    # Insert path of the csv file you'll plot\n",
    "    plots = csv.reader(csvfile, delimiter=',')\n",
    "    for column in plots:\n",
    "        yeartime = column[0]\n",
    "        x.append(try_parsing_date(yeartime))\n",
    "        y.append(float(column[1])) # temp column\n",
    "\n",
    "plt.scatter(x,y, label='Loaded from file!', color='k', s=25, marker=\"o\")\n",
    "plt.xlabel('Date')\n",
    "plt.ylabel('Atmospheric Temperature (K)')\n",
    "#plt.yscale('symlog', linthreshx=0.1)\n",
    "plt.title('Monthly Mean 2m Air Temperatures')\n",
    "plt.show()"
   ]
  },
  {
   "cell_type": "code",
   "execution_count": null,
   "metadata": {},
   "outputs": [],
   "source": [
    "# Plot monthly mean atmospheric temperatures in degrees Celsius\n",
    "x=[]\n",
    "y=[]\n",
    "\n",
    "with open('path\\csvfile','r') as csvfile:\n",
    "    # Insert path of the csv file you'll plot\n",
    "    plots = csv.reader(csvfile, delimiter=',')\n",
    "    for column in plots:\n",
    "        yeartime = column[0]\n",
    "        x.append(try_parsing_date(yeartime))\n",
    "        y.append(float(column[1])-273.15) # Convert Kelvins to degrees Celsius\n",
    "\n",
    "plt.scatter(x,y, label='Loaded from file!', color='k', s=25, marker=\"o\")\n",
    "plt.xlabel('Date')\n",
    "plt.ylabel('Atmospheric Temperature (C)')\n",
    "#plt.yscale('symlog', linthreshx=0.1)\n",
    "plt.title('Monthly Mean 2m Air Temperatures')\n",
    "plt.show()"
   ]
  },
  {
   "cell_type": "code",
   "execution_count": null,
   "metadata": {},
   "outputs": [],
   "source": [
    "df1 = pd.read_csv('path\\csvfile', header=None, error_bad_lines=False, delimiter=',')\n",
    "# Insert csvfile you'll plot\n",
    "df1.columns = ['Year', 'Temp2m'] # Assign column headers\n",
    "df1"
   ]
  },
  {
   "cell_type": "code",
   "execution_count": null,
   "metadata": {},
   "outputs": [],
   "source": [
    "df2 = df1.set_index('Year', drop = False)\n",
    "df2"
   ]
  },
  {
   "cell_type": "code",
   "execution_count": null,
   "metadata": {},
   "outputs": [],
   "source": [
    "#Plot Annual Mean of Monthly Means of atmospheric temperatures in Kelvins\n",
    "df3 = df2['Temp2m'].groupby(df2['Year'].str[:4]).mean().rename('MEAN').reset_index()\n",
    "print (df3)\n",
    "\n",
    "fig=plt.figure(figsize=(25,10))\n",
    "plt.plot(df3['Year'], df3['MEAN'])\n",
    "plt.scatter(df3['Year'], df3['MEAN'])\n",
    "plt.grid(alpha=0.8, linestyle=':', linewidth=.5)\n",
    "plt.xlabel('Year', fontsize = 13)\n",
    "plt.ylabel('Air Temperature (K)', fontsize = 13)\n",
    "#plt.yscale('symlog', linthreshx=0.1)\n",
    "plt.title('Annual Mean of Monthly Means of 2m Air Temperatures')\n",
    "plt.show()"
   ]
  },
  {
   "cell_type": "code",
   "execution_count": null,
   "metadata": {},
   "outputs": [],
   "source": [
    "\n",
    "df3 = df2['Temp2m'].groupby(df2['Year'].str[:4]).mean().rename('MEAN').reset_index()\n",
    "print (df3)\n",
    "\n",
    "fig=plt.figure(figsize=(25,10))\n",
    "plt.plot(df3['Year'], df3['MEAN']-273.15) # Convert Kelvins into degrees Celsius\n",
    "plt.scatter(df3['Year'], df3['MEAN']-273.15) # Convert Kelvins into degrees Celsius\n",
    "plt.xlabel('Year', fontsize = 20)\n",
    "plt.ylabel('Air Temperature [degree C]', fontsize = 20)\n",
    "plt.grid(alpha=0.8, linestyle=':', linewidth=.5)\n",
    "#plt.yscale('symlog', linthreshx=0.1)\n",
    "plt.xticks(fontsize = 11)\n",
    "plt.yticks(fontsize = 15)\n",
    "plt.title('Annual Mean of Monthly Means of 2m Air Temperatures', fontsize = 25)\n",
    "plt.show()"
   ]
  },
  {
   "cell_type": "code",
   "execution_count": null,
   "metadata": {},
   "outputs": [],
   "source": [
    "#Plot Annual Means of atmospheric temperature with Std. Dev. in Kelvins\n",
    "\n",
    "df5 = df2['Temp2m'].groupby(df2['Year'].str[:4]).agg(['mean', 'std', 'count']).reset_index()\n",
    "print (df5)\n",
    "\n",
    "x = df5['Year']\n",
    "y = df5['mean'] # Means dataframe\n",
    "e = df5['std'] # Standard deviation dataframe\n",
    "\n",
    "plt.figure(figsize=(20,10))\n",
    "plt.plot(x, y)\n",
    "plt.scatter(x, y)\n",
    "plt.xlabel('Year')\n",
    "plt.ylabel('Air Temperature (K)')\n",
    "plt.errorbar(x, y, e, linestyle='None', marker='^')\n",
    "plt.title('Annual Mean Air Temperature')\n",
    "plt.show()"
   ]
  },
  {
   "cell_type": "code",
   "execution_count": null,
   "metadata": {},
   "outputs": [],
   "source": [
    "# Plot Monthly Means of atmospheric temperature in Kelvins\n",
    "\n",
    "df4 = df2['Temp2m'].groupby(df2['Year'].str[:7]).mean().rename('MEAN').reset_index()\n",
    "print (df4)\n",
    "\n",
    "fig=plt.figure(figsize=(50,10))\n",
    "plt.plot(df4['Year'], df4['MEAN'])\n",
    "plt.scatter(df4['Year'], df4['MEAN'])\n",
    "plt.xlabel('Year', fontsize = 13)\n",
    "plt.ylabel('Air Temperatures (K)', fontsize = 13)\n",
    "#plt.yscale('symlog', linthreshx=0.1)\n",
    "plt.title('Monthly Means of 2m Air Temperatures')\n",
    "plt.show()"
   ]
  },
  {
   "cell_type": "code",
   "execution_count": null,
   "metadata": {},
   "outputs": [],
   "source": [
    "# Plot Monthly Means of atmospheric temperature in degrees Celsius\n",
    "\n",
    "df4 = df2['Temp2m'].groupby(df2['Year'].str[:7]).mean().rename('MEAN').reset_index()\n",
    "print (df4)\n",
    "\n",
    "fig=plt.figure(figsize=(50,10))\n",
    "plt.plot(df4['Year'], df4['MEAN']-273.15) # Convert Kelvins into degrees Celsius\n",
    "plt.scatter(df4['Year'], df4['MEAN']-273.15) # Convert Kelvins into degrees Celsius\n",
    "plt.xlabel('Year', fontsize = 13)\n",
    "plt.ylabel('Air Temperatures (C)', fontsize = 13)\n",
    "#plt.yscale('symlog', linthreshx=0.1)\n",
    "plt.title('Monthly Means of 2m Air Temperatures')\n",
    "plt.show()"
   ]
  }
 ],
 "metadata": {
  "kernelspec": {
   "display_name": "Python 3",
   "language": "python",
   "name": "python3"
  },
  "language_info": {
   "codemirror_mode": {
    "name": "ipython",
    "version": 3
   },
   "file_extension": ".py",
   "mimetype": "text/x-python",
   "name": "python",
   "nbconvert_exporter": "python",
   "pygments_lexer": "ipython3",
   "version": "3.6.4"
  }
 },
 "nbformat": 4,
 "nbformat_minor": 2
}
